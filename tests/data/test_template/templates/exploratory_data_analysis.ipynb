{
 "cells": [
  {
   "cell_type": "code",
   "execution_count": null,
   "metadata": {},
   "outputs": [],
   "source": []
  }
 ],
 "metadata": {
  "kernelspec": {
   "display_name": "Python 3.8.13 ('notabene')",
   "language": "python",
   "name": "python3"
  },
  "language_info": {
   "name": "python",
   "version": "3.8.13"
  },
  "orig_nbformat": 4,
  "vscode": {
   "interpreter": {
    "hash": "0f0801a9f472fdef75ddd9545abdde8b2ed19e5254530afa55bd5914245959a8"
   }
  }
 },
 "nbformat": 4,
 "nbformat_minor": 2
}
